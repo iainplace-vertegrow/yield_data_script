{
 "cells": [
  {
   "cell_type": "code",
   "execution_count": 1,
   "id": "319f9c50",
   "metadata": {},
   "outputs": [],
   "source": [
    "# import packages\n",
    "import numpy as np\n",
    "import pandas as pd\n",
    "import matplotlib.pyplot as plt\n",
    "from matplotlib import rcParams\n",
    "from matplotlib import markers\n",
    "import seaborn as sns\n",
    "import textwrap\n",
    "import math"
   ]
  },
  {
   "cell_type": "code",
   "execution_count": 11,
   "id": "9ac0b441",
   "metadata": {},
   "outputs": [
    {
     "name": "stdout",
     "output_type": "stream",
     "text": [
      "          date                   crop  lotNumber       yield  towerDays   \n",
      "0   2022-12-21  Micro Purslane Golden        NaN  136.800000       22.0  \\\n",
      "1   2022-12-21   Micro Purslane Green        NaN  136.800000       22.0   \n",
      "2   2023-01-04   Micro Purslane Green        NaN  115.000000       12.0   \n",
      "3   2023-01-06   Micro Purslane Green        NaN  129.000000       14.0   \n",
      "4   2023-01-09   Micro Purslane Green        NaN  181.000000       17.0   \n",
      "..         ...                    ...        ...         ...        ...   \n",
      "111 2023-05-01                 Viola    300049.0    6.902857       89.0   \n",
      "112 2023-05-02                Oregano   300136.0  189.000000       39.0   \n",
      "113 2023-05-02    Chili Pepper Padron        NaN  353.333333      125.0   \n",
      "114 2023-05-02             Buzzflower        NaN   45.000000        NaN   \n",
      "115 2023-05-02          Borage flower        NaN   22.000000        NaN   \n",
      "\n",
      "          recipe notes  \n",
      "0    Herbs_002_a   NaN  \n",
      "1    Herbs_002_a   NaN  \n",
      "2    Herbs_002_a   NaN  \n",
      "3    Herbs_002_a   NaN  \n",
      "4    Herbs_002_a   NaN  \n",
      "..           ...   ...  \n",
      "111          NaN   NaN  \n",
      "112          NaN   NaN  \n",
      "113          NaN   NaN  \n",
      "114          NaN   NaN  \n",
      "115          NaN   NaN  \n",
      "\n",
      "[116 rows x 7 columns]\n"
     ]
    }
   ],
   "source": [
    "# import data straight from .xlsx file\n",
    "# this is using a temporary test data source for now\n",
    "df = pd.read_excel(r'/home/iain/programming/python/yield_data.xlsx',)\n",
    "print(df)"
   ]
  },
  {
   "cell_type": "code",
   "execution_count": 4,
   "id": "7c436284",
   "metadata": {},
   "outputs": [
    {
     "data": {
      "text/html": [
       "<div>\n",
       "<style scoped>\n",
       "    .dataframe tbody tr th:only-of-type {\n",
       "        vertical-align: middle;\n",
       "    }\n",
       "\n",
       "    .dataframe tbody tr th {\n",
       "        vertical-align: top;\n",
       "    }\n",
       "\n",
       "    .dataframe thead th {\n",
       "        text-align: right;\n",
       "    }\n",
       "</style>\n",
       "<table border=\"1\" class=\"dataframe\">\n",
       "  <thead>\n",
       "    <tr style=\"text-align: right;\">\n",
       "      <th></th>\n",
       "      <th>Micro Amaranth Red Aztec</th>\n",
       "      <th>Micro Basil Salvo</th>\n",
       "      <th>Micro Coriander Splits</th>\n",
       "      <th>Micro Rocket Victoria</th>\n",
       "    </tr>\n",
       "  </thead>\n",
       "  <tbody>\n",
       "    <tr>\n",
       "      <th>No. harvests</th>\n",
       "      <td>13.00</td>\n",
       "      <td>8.00</td>\n",
       "      <td>13.00</td>\n",
       "      <td>11.00</td>\n",
       "    </tr>\n",
       "    <tr>\n",
       "      <th>Mean yield (g)</th>\n",
       "      <td>69.10</td>\n",
       "      <td>120.01</td>\n",
       "      <td>59.45</td>\n",
       "      <td>78.90</td>\n",
       "    </tr>\n",
       "    <tr>\n",
       "      <th>Std. deviation</th>\n",
       "      <td>30.55</td>\n",
       "      <td>18.52</td>\n",
       "      <td>21.25</td>\n",
       "      <td>22.32</td>\n",
       "    </tr>\n",
       "  </tbody>\n",
       "</table>\n",
       "</div>"
      ],
      "text/plain": [
       "                Micro Amaranth Red Aztec  Micro Basil Salvo   \n",
       "No. harvests                       13.00               8.00  \\\n",
       "Mean yield (g)                     69.10             120.01   \n",
       "Std. deviation                     30.55              18.52   \n",
       "\n",
       "                Micro Coriander Splits  Micro Rocket Victoria  \n",
       "No. harvests                     13.00                  11.00  \n",
       "Mean yield (g)                   59.45                  78.90  \n",
       "Std. deviation                   21.25                  22.32  "
      ]
     },
     "execution_count": 4,
     "metadata": {},
     "output_type": "execute_result"
    }
   ],
   "source": [
    "# for loop to generate number of harvests, means/medians and std. deviations for the cropList variable\n",
    "# sort index by date\n",
    "\n",
    "dates = ['2023-1-1', '2023-5-7']\n",
    "df = df.sort_index()\n",
    "df_date = df.loc[df['date'].between(dates[0],dates[1])]\n",
    "\n",
    "cropList = [\"Micro Amaranth Red Aztec\",\n",
    "            \"Micro Basil Salvo\",\n",
    "            \"Micro Coriander Splits\",\n",
    "            \"Micro Rocket Victoria\"]\n",
    "\n",
    "# initiate lists\n",
    "noList = []\n",
    "meanList = []\n",
    "stdList = []\n",
    "maxCrop = []\n",
    "minDay = []\n",
    "maxDay = []\n",
    "for crop in cropList:\n",
    "    # go through each crop in cropList\n",
    "    for item in df_date.loc[df_date['crop'] == crop]:\n",
    "        # create a temp dataframe for each crop\n",
    "        df_temp = df_date.loc[df_date['crop'] == crop]\n",
    "        cropNo = df_temp.shape[0]\n",
    "        cropMean = df_temp[\"yield\"].mean()\n",
    "        cropStd = df_temp[\"yield\"].std()\n",
    "        tempcropMax = df_temp[\"yield\"].max()\n",
    "        tempdayMin = df_temp[\"towerDays\"].min()\n",
    "        tempdayMax = df_temp[\"towerDays\"].max()\n",
    "    # append values from temporary variables to lists\n",
    "    noList.append(cropNo)\n",
    "    meanList.append(cropMean)\n",
    "    stdList.append(cropStd)\n",
    "    maxCrop.append(tempcropMax)\n",
    "    minDay.append(tempdayMin)\n",
    "    maxDay.append(tempdayMax)\n",
    "\n",
    "# convert lists into a dataframe\n",
    "listlists = noList, meanList, stdList\n",
    "df_cropData = pd.DataFrame(listlists)\n",
    "# set column titles as croplist\n",
    "df_cropData.columns = cropList\n",
    "# set row titles\n",
    "rows = \"No. harvests\", \"Mean yield (g)\", \"Std. deviation\"\n",
    "df_cropData.index = rows\n",
    "# reduce number of decimal places to 2\n",
    "df_cropData = df_cropData.round(2)\n",
    "\n",
    "\n",
    "df_cropData.head()\n",
    "#print(df_cropData)"
   ]
  },
  {
   "cell_type": "code",
   "execution_count": 132,
   "id": "8ab57896",
   "metadata": {},
   "outputs": [
    {
     "data": {
      "image/png": "[encoded data removed]",
      "text/plain": [
       "<Figure size 600x400 with 1 Axes>"
      ]
     },
     "metadata": {},
     "output_type": "display_data"
    }
   ],
   "source": [
    "### violin plots for the four main crops\n",
    "# takes date range from above\n",
    "df_date = df.loc[df['date'].between(dates[0],dates[1])]\n",
    "# select only crops in the list above\n",
    "df_datecrop = df_date.loc[df_date['crop'].isin(cropList)]\n",
    "\n",
    "# set violinplot colour fill\n",
    "colourList = ['#ab096c','#11e070','#7ed93f','#09ab2a']\n",
    "\n",
    "# for wrapping the x tick labels\n",
    "def wrap_labels(ax, width, break_long_words=False):\n",
    "    labels = []\n",
    "    for label in ax.get_xticklabels():\n",
    "        text = label.get_text()\n",
    "        labels.append(textwrap.fill(text, width=width,\n",
    "                      break_long_words=break_long_words))\n",
    "    ax.set_xticklabels(labels, rotation=0)\n",
    "\n",
    "sns.set(style=\"whitegrid\")\n",
    "sns.set_theme()\n",
    "\n",
    "plt.figure(figsize=(6,4))\n",
    "ax = sns.violinplot(x=\"crop\", y=\"yield\", data = df_datecrop,\n",
    "                    palette=\"light:g\", scale=\"width\", width=.7, linewidth=1.5, inner=\"box\")\n",
    "# set blank x label, y label\n",
    "ax.set_xlabel(\"\")\n",
    "ax.set_ylabel(\"Yield / tray (g)\")\n",
    "# wrap x label texts\n",
    "wrap_labels(ax, 15)\n",
    "# figure dimensions\n",
    "#rcParams['figure.figsize'] = 14,10\n",
    "\n",
    "plt.show(ax)\n",
    "\n",
    "fig = ax.get_figure()\n",
    "dateForFile = [date[: -2] for date in dates]\n",
    "                      \n",
    "fig.savefig(\"yieldfigure.png\")\n",
    "\n",
    "# make the colour settings more appealing"
   ]
  },
  {
   "cell_type": "code",
   "execution_count": 17,
   "id": "0794c0b2",
   "metadata": {},
   "outputs": [
    {
     "name": "stdout",
     "output_type": "stream",
     "text": [
      "Empty DataFrame\n",
      "Columns: [date, crop, lotNumber, yield, towerDays, recipe, notes]\n",
      "Index: []\n"
     ]
    },
    {
     "data": {
      "text/plain": [
       "<Figure size 648x432 with 0 Axes>"
      ]
     },
     "metadata": {},
     "output_type": "display_data"
    },
    {
     "data": {
      "text/plain": [
       "<Figure size 360x360 with 0 Axes>"
      ]
     },
     "metadata": {},
     "output_type": "display_data"
    },
    {
     "data": {
      "text/plain": [
       "<Figure size 360x360 with 0 Axes>"
      ]
     },
     "metadata": {},
     "output_type": "display_data"
    },
    {
     "data": {
      "text/plain": [
       "<Figure size 360x360 with 0 Axes>"
      ]
     },
     "metadata": {},
     "output_type": "display_data"
    },
    {
     "data": {
      "text/plain": [
       "<Figure size 360x360 with 0 Axes>"
      ]
     },
     "metadata": {},
     "output_type": "display_data"
    }
   ],
   "source": [
    "### scatter plots for each crop individual\n",
    "# takes date range from above\n",
    "df_date = df.loc[df['date'].between(dates[0],dates[1])]\n",
    "\n",
    "cropList = [\"Micro Amaranth Red Aztec\",\n",
    "            \"Micro Basil Salvo\",\n",
    "            \"Micro Coriander Splits\",\n",
    "            \"Micro Rocket Victoria\",\n",
    "            \"Pea Shoots 4019\",\n",
    "            \"Pea Shoots Style\"]\n",
    "#last entry has wrong labels\n",
    "dfList = [df_date.loc[df_date['crop'] == cropList[0]],\n",
    "          df_date.loc[df_date['crop'] == cropList[1]],\n",
    "          df_date.loc[df_date['crop'] == cropList[2]],\n",
    "          df_date.loc[df_date['crop'] == cropList[3]],\n",
    "          df_date.loc[(df_date['crop'] == cropList[4]) | (df_date['crop'] == cropList[5])]]\n",
    "\n",
    "#set the X axis min and max limit for all figures\n",
    "dVar = math.ceil(min(minDay))/2\n",
    "minX = (math.ceil(dVar)-1)*2\n",
    "dVar = math.ceil(max(maxDay))/2\n",
    "maxX = (math.ceil(dVar)+1)*2\n",
    "\n",
    "#set the Y axis max limit for all figures\n",
    "dVar = math.ceil(max(maxCrop))/20\n",
    "maxY = (math.ceil(dVar)+1)*20\n",
    "\n",
    "sns.set(style='darkgrid')\n",
    "plt.figure(figsize=(9,6))\n",
    "\n",
    "g0=sns.lmplot(x='towerDays',\n",
    "              y='yield', \n",
    "              hue='crop',\n",
    "              legend=False,\n",
    "              markers=\"+\",\n",
    "              ci=None,\n",
    "              data=dfList[0]).set(xlim=(minX,maxX),\n",
    "       ylim=(0, maxY),\n",
    "       xlabel=\"Days under light\",\n",
    "       ylabel=\"Yield / tray (g)\")\n",
    "g0= g0.figure\n",
    "g0.savefig(cropList[0]+'.png', dpi=300)\n",
    "plt.clf()\n",
    "\n",
    "g1=sns.lmplot(x='towerDays',\n",
    "              y='yield', \n",
    "              hue='crop',\n",
    "              legend=False,\n",
    "              markers=\"+\",\n",
    "              ci=None,\n",
    "              data=dfList[1]).set(xlim=(minX,maxX),\n",
    "       ylim=(0, maxY),\n",
    "       xlabel=\"Days under light\",\n",
    "       ylabel=\"Yield / tray (g)\")\n",
    "g1= g1.figure\n",
    "g1.savefig(cropList[1]+'.png', dpi=300)\n",
    "plt.clf()\n",
    "\n",
    "g2=sns.lmplot(x='towerDays',\n",
    "              y='yield', \n",
    "              hue='crop',\n",
    "              legend=False,\n",
    "              markers=\"+\",\n",
    "              ci=None,\n",
    "              data=dfList[2]).set(xlim=(minX,maxX),\n",
    "       ylim=(0, maxY),\n",
    "       xlabel=\"Days under light\",\n",
    "       ylabel=\"Yield / tray (g)\")\n",
    "g2= g2.figure\n",
    "g2.savefig(cropList[2]+'.png', dpi=300)\n",
    "plt.clf()\n",
    "\n",
    "g3=sns.lmplot(x='towerDays',\n",
    "              y='yield', \n",
    "              hue='crop',\n",
    "              legend=False,\n",
    "              markers=\"+\",\n",
    "              ci=None,\n",
    "              data=dfList[3]).set(xlim=(minX,maxX),\n",
    "       ylim=(0, maxY),\n",
    "       xlabel=\"Days under light\",\n",
    "       ylabel=\"Yield / tray (g)\")\n",
    "g3= g3.figure\n",
    "g3.savefig(cropList[3]+'.png', dpi=300)\n",
    "plt.clf()\n",
    "\n",
    "# pea shoots and tendrils in a single grid\n",
    "\n"
   ]
  },
  {
   "cell_type": "code",
   "execution_count": null,
   "id": "f3cbf893",
   "metadata": {},
   "outputs": [],
   "source": [
    "# figures for long term crops\n",
    "# violas, nasturtiums, mint etc."
   ]
  },
  {
   "cell_type": "code",
   "execution_count": 123,
   "id": "c768ff15",
   "metadata": {},
   "outputs": [
    {
     "data": {
      "text/plain": [
       "<Figure size 648x432 with 0 Axes>"
      ]
     },
     "metadata": {},
     "output_type": "display_data"
    },
    {
     "data": {
      "text/plain": [
       "<Figure size 546.35x360 with 0 Axes>"
      ]
     },
     "metadata": {},
     "output_type": "display_data"
    }
   ],
   "source": [
    "### scatter plots for each crop combined\n",
    "# takes date range from above\n",
    "df_date = df.loc[df['date'].between(dates[0],dates[1])]\n",
    "# select only crops in the list above\n",
    "df_datecrop = df_date.loc[df_date['crop'].isin(cropList)]\n",
    "\n",
    "#set the X axis min and max limit for all figures\n",
    "dVar = math.ceil(min(minDay))/2\n",
    "minX = (math.ceil(dVar)-1)*2\n",
    "dVar = math.ceil(max(maxDay))/2\n",
    "maxX = (math.ceil(dVar)+1)*2\n",
    "\n",
    "#set the Y axis max limit for all figures\n",
    "dVar = math.ceil(max(maxCrop))/20\n",
    "maxY = (math.ceil(dVar)+1)*20\n",
    "\n",
    "sns.set(style='darkgrid')\n",
    "plt.figure(figsize=(9,6))\n",
    "\n",
    "gCombined=sns.lmplot(x='towerDays',\n",
    "                     y='yield',\n",
    "                     hue='crop',\n",
    "                     legend=True,\n",
    "                     markers=\"x\",\n",
    "                     ci=None,\n",
    "                     data=df_datecrop)\n",
    "gCombined.set(xlim=(minX,maxX),\n",
    "              ylim=(0, maxY),\n",
    "              xlabel=\"Days under light\",\n",
    "              ylabel=\"Yield / tray (g)\")\n",
    "gCombined = gCombined.figure\n",
    "gCombined.savefig(\"combined.png\", dpi=300)\n",
    "plt.clf()\n",
    " \n",
    "#g0=sns.lmplot(x='towerDays',\n",
    "#              y='yield', \n",
    "#              hue='crop',\n",
    "#              legend=False,\n",
    "#              markers=\"+\",\n",
    "#              ci=None,\n",
    "#              data=dfList[0])\n",
    "#g0.set(xlim=(minX,maxX),\n",
    "#       ylim=(0, maxY),\n",
    "#       xlabel=\"Days under light\",\n",
    "#       ylabel=\"Yield / tray (g)\")\n",
    "#g0= g0.figure\n",
    "#g0.savefig(cropList[0]+'.png', dpi=300)\n",
    "#plt.clf()"
   ]
  },
  {
   "cell_type": "code",
   "execution_count": null,
   "id": "358e55c2",
   "metadata": {},
   "outputs": [],
   "source": [
    "# scatter plots for each crop in a for list\n",
    "\n",
    "\n",
    "# takes date range from above\n",
    "df_date = df.loc[df['date'].between(dates[0],dates[1])]\n",
    "# select only crops in the list above\n",
    "df_datecrop = df_date.loc[df_date['crop'].isin(cropList)]\n",
    "\n"
   ]
  }
 ],
 "metadata": {
  "kernelspec": {
   "display_name": "Python 3 (ipykernel)",
   "language": "python",
   "name": "python3"
  },
  "language_info": {
   "codemirror_mode": {
    "name": "ipython",
    "version": 3
   },
   "file_extension": ".py",
   "mimetype": "text/x-python",
   "name": "python",
   "nbconvert_exporter": "python",
   "pygments_lexer": "ipython3",
   "version": "3.10.6"
  }
 },
 "nbformat": 4,
 "nbformat_minor": 5
}
